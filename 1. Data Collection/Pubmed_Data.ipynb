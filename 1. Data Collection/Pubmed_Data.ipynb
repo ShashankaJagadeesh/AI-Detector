{
 "cells": [
  {
   "cell_type": "markdown",
   "id": "bef9a40c",
   "metadata": {},
   "source": [
    "## Web Scraping Approach\n",
    "\n",
    "A web scraping process aimed at collecting news articles from an online platform is performed. 3 libraries were used to carry out our web scraping process.\n",
    "\n",
    "- `requests`: Retrieving web page content.(Python Software Foundation, n.d.)\n",
    "- `BeautifulSoup`: Parsing and navigating the HTML structure of these pages for data extraction.(Mitchell & Richardson, n.d.)\n",
    "- `pandas`: To structure the scraped information into a format ready for further analysis. (McKinney, n.d.)\n",
    "\n",
    "Our extraction focuses on the articles titles and their main textual content, from a carefully chosen list of URLs. This required a process of identifying and extracting HTML elements known to house the title and body text, which were then compiled into a coherent dataset. This approach not only made the data collection process efficient for our needs but also helped the consistency and accuracy of the data prepared for analysis.\n"
   ]
  },
  {
   "cell_type": "code",
   "execution_count": 1,
   "id": "710b6b0e",
   "metadata": {},
   "outputs": [],
   "source": [
    "import requests\n",
    "from bs4 import BeautifulSoup\n",
    "import pandas as pd"
   ]
  },
  {
   "cell_type": "code",
   "execution_count": 2,
   "id": "540c7867",
   "metadata": {},
   "outputs": [],
   "source": [
    "import requests\n",
    "\n",
    "def check_url_exists(url):\n",
    "    response = requests.head(url)  # Using HEAD to check the existence without downloading the whole page\n",
    "    return response.status_code == 200  # Returns True if the page exists\n",
    "\n",
    "def generate_pubmed_urls(start_id, count=300):\n",
    "    existing_urls = []\n",
    "    attempt = 0  # Count of attempts to find existing pages\n",
    "    while len(existing_urls) < count and attempt < 1000:  # Prevent infinite loops\n",
    "        url = f\"https://pubmed.ncbi.nlm.nih.gov/{start_id + attempt}/\"\n",
    "        if check_url_exists(url):\n",
    "            existing_urls.append(url)\n",
    "        attempt += 1\n",
    "    return existing_urls\n",
    "\n",
    "#starting ID\n",
    "start_id = 38535994\n",
    "urls = generate_pubmed_urls(start_id)"
   ]
  },
  {
   "cell_type": "code",
   "execution_count": 3,
   "id": "b3a2ce3e",
   "metadata": {},
   "outputs": [
    {
     "data": {
      "text/plain": [
       "300"
      ]
     },
     "execution_count": 3,
     "metadata": {},
     "output_type": "execute_result"
    }
   ],
   "source": [
    "len(urls)"
   ]
  },
  {
   "cell_type": "code",
   "execution_count": 4,
   "id": "132cb827",
   "metadata": {},
   "outputs": [],
   "source": [
    "def scrape_pubmed_article(url):\n",
    "    response = requests.get(url)\n",
    "    soup = BeautifulSoup(response.content, 'html.parser')\n",
    "    \n",
    "    # Find the title of the article\n",
    "    title = soup.find('h1', class_='heading-title')\n",
    "    article_title = title.get_text(strip=True) if title else 'PubMed Article'  # Fallback title if not found\n",
    "    \n",
    "    # Find the main content of the article (abstract)\n",
    "    abstract_div = soup.find('div', class_='abstract-content selected')\n",
    "    abstract_text = abstract_div.get_text(strip=True) if abstract_div else ''\n",
    "    \n",
    "    return {\n",
    "        'title': article_title,\n",
    "        'text': abstract_text\n",
    "    }\n",
    "\n",
    "scraping_functions = {\n",
    "    'pubmed.ncbi.nlm.nih.gov': scrape_pubmed_article,  \n",
    "}\n",
    "\n",
    "def scrape_article(url):\n",
    "    domain = url.split('//')[1].split('/')[0]\n",
    "    if domain in scraping_functions:\n",
    "        func = scraping_functions[domain]\n",
    "        article_data = func(url)\n",
    "        return article_data\n",
    "    print(f\"No specific scraping function for URL: {url}\")\n",
    "    return None\n",
    "\n",
    "# Scraping the articles and collect the data\n",
    "articles = []\n",
    "for url in urls:\n",
    "    result = scrape_article(url)\n",
    "    if result:\n",
    "        articles.append({'url': url, 'title': result['title'], 'text': result['text'], 'label': 'Human-written'})\n",
    "\n",
    "pubmed_df = pd.DataFrame(articles)"
   ]
  },
  {
   "cell_type": "code",
   "execution_count": 5,
   "id": "333c0d12",
   "metadata": {},
   "outputs": [
    {
     "data": {
      "text/html": [
       "<div>\n",
       "<style scoped>\n",
       "    .dataframe tbody tr th:only-of-type {\n",
       "        vertical-align: middle;\n",
       "    }\n",
       "\n",
       "    .dataframe tbody tr th {\n",
       "        vertical-align: top;\n",
       "    }\n",
       "\n",
       "    .dataframe thead th {\n",
       "        text-align: right;\n",
       "    }\n",
       "</style>\n",
       "<table border=\"1\" class=\"dataframe\">\n",
       "  <thead>\n",
       "    <tr style=\"text-align: right;\">\n",
       "      <th></th>\n",
       "      <th>url</th>\n",
       "      <th>title</th>\n",
       "      <th>text</th>\n",
       "      <th>label</th>\n",
       "    </tr>\n",
       "  </thead>\n",
       "  <tbody>\n",
       "    <tr>\n",
       "      <th>0</th>\n",
       "      <td>https://pubmed.ncbi.nlm.nih.gov/38535994/</td>\n",
       "      <td>NPEPPS Is a Druggable Driver of Platinum Resis...</td>\n",
       "      <td>There is an unmet need to improve the efficacy...</td>\n",
       "      <td>Human-written</td>\n",
       "    </tr>\n",
       "    <tr>\n",
       "      <th>1</th>\n",
       "      <td>https://pubmed.ncbi.nlm.nih.gov/38535995/</td>\n",
       "      <td>High Internal Phase Emulsion for Constructing ...</td>\n",
       "      <td>Polymerized high internal phase emulsions (pol...</td>\n",
       "      <td>Human-written</td>\n",
       "    </tr>\n",
       "    <tr>\n",
       "      <th>2</th>\n",
       "      <td>https://pubmed.ncbi.nlm.nih.gov/38535996/</td>\n",
       "      <td>Proteomic Analysis of Human Saliva via Solid-P...</td>\n",
       "      <td>Proteomics of human saliva samples was achieve...</td>\n",
       "      <td>Human-written</td>\n",
       "    </tr>\n",
       "    <tr>\n",
       "      <th>3</th>\n",
       "      <td>https://pubmed.ncbi.nlm.nih.gov/38535997/</td>\n",
       "      <td>Adenine Methylation Enhances the Conformationa...</td>\n",
       "      <td>The N6-methyladenosine modification is one of ...</td>\n",
       "      <td>Human-written</td>\n",
       "    </tr>\n",
       "    <tr>\n",
       "      <th>4</th>\n",
       "      <td>https://pubmed.ncbi.nlm.nih.gov/38535998/</td>\n",
       "      <td>Targeting mitochondrial dysfunction using meth...</td>\n",
       "      <td>Methylene blue (MB) is a well-established anti...</td>\n",
       "      <td>Human-written</td>\n",
       "    </tr>\n",
       "    <tr>\n",
       "      <th>...</th>\n",
       "      <td>...</td>\n",
       "      <td>...</td>\n",
       "      <td>...</td>\n",
       "      <td>...</td>\n",
       "    </tr>\n",
       "    <tr>\n",
       "      <th>295</th>\n",
       "      <td>https://pubmed.ncbi.nlm.nih.gov/38536291/</td>\n",
       "      <td>Operational stressors, psychological distress,...</td>\n",
       "      <td>Military personnel experience stressors during...</td>\n",
       "      <td>Human-written</td>\n",
       "    </tr>\n",
       "    <tr>\n",
       "      <th>296</th>\n",
       "      <td>https://pubmed.ncbi.nlm.nih.gov/38536292/</td>\n",
       "      <td>Validation of the adapted response to stressfu...</td>\n",
       "      <td>There is evidence to suggest that resilience m...</td>\n",
       "      <td>Human-written</td>\n",
       "    </tr>\n",
       "    <tr>\n",
       "      <th>297</th>\n",
       "      <td>https://pubmed.ncbi.nlm.nih.gov/38536293/</td>\n",
       "      <td>The impact of family stressors and resources o...</td>\n",
       "      <td>Much of the prior research on variables impact...</td>\n",
       "      <td>Human-written</td>\n",
       "    </tr>\n",
       "    <tr>\n",
       "      <th>298</th>\n",
       "      <td>https://pubmed.ncbi.nlm.nih.gov/38536294/</td>\n",
       "      <td>Diverse predictors of early attrition in an el...</td>\n",
       "      <td>Reconnaissance Marine training is deliberately...</td>\n",
       "      <td>Human-written</td>\n",
       "    </tr>\n",
       "    <tr>\n",
       "      <th>299</th>\n",
       "      <td>https://pubmed.ncbi.nlm.nih.gov/38536295/</td>\n",
       "      <td>Military self-stigma as a mediator of the link...</td>\n",
       "      <td>US military Veterans are at greater risk for s...</td>\n",
       "      <td>Human-written</td>\n",
       "    </tr>\n",
       "  </tbody>\n",
       "</table>\n",
       "<p>300 rows × 4 columns</p>\n",
       "</div>"
      ],
      "text/plain": [
       "                                           url  \\\n",
       "0    https://pubmed.ncbi.nlm.nih.gov/38535994/   \n",
       "1    https://pubmed.ncbi.nlm.nih.gov/38535995/   \n",
       "2    https://pubmed.ncbi.nlm.nih.gov/38535996/   \n",
       "3    https://pubmed.ncbi.nlm.nih.gov/38535997/   \n",
       "4    https://pubmed.ncbi.nlm.nih.gov/38535998/   \n",
       "..                                         ...   \n",
       "295  https://pubmed.ncbi.nlm.nih.gov/38536291/   \n",
       "296  https://pubmed.ncbi.nlm.nih.gov/38536292/   \n",
       "297  https://pubmed.ncbi.nlm.nih.gov/38536293/   \n",
       "298  https://pubmed.ncbi.nlm.nih.gov/38536294/   \n",
       "299  https://pubmed.ncbi.nlm.nih.gov/38536295/   \n",
       "\n",
       "                                                 title  \\\n",
       "0    NPEPPS Is a Druggable Driver of Platinum Resis...   \n",
       "1    High Internal Phase Emulsion for Constructing ...   \n",
       "2    Proteomic Analysis of Human Saliva via Solid-P...   \n",
       "3    Adenine Methylation Enhances the Conformationa...   \n",
       "4    Targeting mitochondrial dysfunction using meth...   \n",
       "..                                                 ...   \n",
       "295  Operational stressors, psychological distress,...   \n",
       "296  Validation of the adapted response to stressfu...   \n",
       "297  The impact of family stressors and resources o...   \n",
       "298  Diverse predictors of early attrition in an el...   \n",
       "299  Military self-stigma as a mediator of the link...   \n",
       "\n",
       "                                                  text          label  \n",
       "0    There is an unmet need to improve the efficacy...  Human-written  \n",
       "1    Polymerized high internal phase emulsions (pol...  Human-written  \n",
       "2    Proteomics of human saliva samples was achieve...  Human-written  \n",
       "3    The N6-methyladenosine modification is one of ...  Human-written  \n",
       "4    Methylene blue (MB) is a well-established anti...  Human-written  \n",
       "..                                                 ...            ...  \n",
       "295  Military personnel experience stressors during...  Human-written  \n",
       "296  There is evidence to suggest that resilience m...  Human-written  \n",
       "297  Much of the prior research on variables impact...  Human-written  \n",
       "298  Reconnaissance Marine training is deliberately...  Human-written  \n",
       "299  US military Veterans are at greater risk for s...  Human-written  \n",
       "\n",
       "[300 rows x 4 columns]"
      ]
     },
     "execution_count": 5,
     "metadata": {},
     "output_type": "execute_result"
    }
   ],
   "source": [
    "pubmed_df"
   ]
  },
  {
   "cell_type": "code",
   "execution_count": 6,
   "id": "7f172cf8",
   "metadata": {},
   "outputs": [
    {
     "data": {
      "text/plain": [
       "55"
      ]
     },
     "execution_count": 6,
     "metadata": {},
     "output_type": "execute_result"
    }
   ],
   "source": [
    "(pubmed_df['text'] == '').sum()"
   ]
  },
  {
   "cell_type": "code",
   "execution_count": 7,
   "id": "e7773349",
   "metadata": {},
   "outputs": [],
   "source": [
    "pubmed_df = pubmed_df[pubmed_df['text'] != '']"
   ]
  },
  {
   "cell_type": "code",
   "execution_count": 8,
   "id": "2846bfdb",
   "metadata": {},
   "outputs": [
    {
     "data": {
      "text/plain": [
       "0"
      ]
     },
     "execution_count": 8,
     "metadata": {},
     "output_type": "execute_result"
    }
   ],
   "source": [
    "(pubmed_df['text'] == '').sum()"
   ]
  },
  {
   "cell_type": "code",
   "execution_count": 9,
   "id": "0014c28a",
   "metadata": {},
   "outputs": [
    {
     "name": "stdout",
     "output_type": "stream",
     "text": [
      "<class 'pandas.core.frame.DataFrame'>\n",
      "Index: 245 entries, 0 to 299\n",
      "Data columns (total 4 columns):\n",
      " #   Column  Non-Null Count  Dtype \n",
      "---  ------  --------------  ----- \n",
      " 0   url     245 non-null    object\n",
      " 1   title   245 non-null    object\n",
      " 2   text    245 non-null    object\n",
      " 3   label   245 non-null    object\n",
      "dtypes: object(4)\n",
      "memory usage: 9.6+ KB\n"
     ]
    }
   ],
   "source": [
    "pubmed_df.info()"
   ]
  },
  {
   "cell_type": "markdown",
   "id": "2914d475",
   "metadata": {},
   "source": [
    "## Data storage for further analysis\n",
    "\n",
    "After successfully scraping and organizing the data, it is stored. This step allowed us to keep a stable and easily accessible dataset for further analysis, obviating the need to redo the scraping process. Opting for a pickle file as the storage medium was particularly advantageous due to its capacity to store Python objects, thereby maintaining the integrity of the data's structure and content. \n"
   ]
  },
  {
   "cell_type": "code",
   "execution_count": 10,
   "id": "bd49abdb",
   "metadata": {},
   "outputs": [],
   "source": [
    "pubmed_df.to_pickle(\"pubmed_data.pkl\")"
   ]
  },
  {
   "cell_type": "markdown",
   "id": "744d19f2",
   "metadata": {},
   "source": [
    "### References\n",
    "\n",
    "- Python Software Foundation. (n.d.). *Requests: HTTP for Humans™*. Retrieved from [https://requests.readthedocs.io](https://requests.readthedocs.io)\n",
    "\n",
    "- Richard Mitchell, Leonard Richardson. (n.d.). *Beautiful Soup Documentation*. Retrieved from [https://www.crummy.com/software/BeautifulSoup/bs4/doc/](https://www.crummy.com/software/BeautifulSoup/bs4/doc/)\n",
    "\n",
    "- Wes McKinney. (n.d.). *pandas: powerful Python data analysis toolkit*. Retrieved from [https://pandas.pydata.org/pandas-docs/stable/index.html](https://pandas.pydata.org/pandas-docs/stable/index.html)"
   ]
  }
 ],
 "metadata": {
  "kernelspec": {
   "display_name": "Python 3 (ipykernel)",
   "language": "python",
   "name": "python3"
  },
  "language_info": {
   "codemirror_mode": {
    "name": "ipython",
    "version": 3
   },
   "file_extension": ".py",
   "mimetype": "text/x-python",
   "name": "python",
   "nbconvert_exporter": "python",
   "pygments_lexer": "ipython3",
   "version": "3.11.5"
  }
 },
 "nbformat": 4,
 "nbformat_minor": 5
}
