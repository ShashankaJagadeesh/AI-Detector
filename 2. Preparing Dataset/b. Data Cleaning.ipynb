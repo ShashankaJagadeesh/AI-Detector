{
 "cells": [
  {
   "cell_type": "markdown",
   "id": "d1212d8e",
   "metadata": {},
   "source": [
    "### Importing the pickle dataframe files"
   ]
  },
  {
   "cell_type": "code",
   "execution_count": 1,
   "id": "40ad2941",
   "metadata": {},
   "outputs": [],
   "source": [
    "import pandas as pd\n",
    "import re\n",
    "\n",
    "ai_df = pd.read_pickle(\"AI_Generated_data.pkl\")\n",
    "human_df = pd.read_pickle(\"Human_Written_data.pkl\")"
   ]
  },
  {
   "cell_type": "markdown",
   "id": "7e0ec318",
   "metadata": {},
   "source": [
    "### Cleaning the Text"
   ]
  },
  {
   "cell_type": "code",
   "execution_count": 2,
   "id": "d7739d4f",
   "metadata": {},
   "outputs": [],
   "source": [
    "# Function to clean text\n",
    "def clean_text(text):\n",
    "    # Removing non-standard characters, keeping letters, numbers, basic punctuation and spaces\n",
    "    text = re.sub(r'[^a-zA-Z0-9,.!? ]+', '', text)\n",
    "    text = re.sub(r'(\\d+)', r' \\1 ', text)\n",
    "    # Making large spaces to a single space\n",
    "    text = re.sub(r'\\s+', ' ', text)\n",
    "    # Trimming any leading and trailing spaces\n",
    "    text = text.strip()\n",
    "    return text\n",
    "\n",
    "# Cleaning text in AI generated format\n",
    "ai_df['ai_text'] = ai_df['ai_text'].apply(clean_text)\n",
    "human_df['text'] = human_df['text'].apply(clean_text)"
   ]
  },
  {
   "cell_type": "code",
   "execution_count": 3,
   "id": "8438f397",
   "metadata": {},
   "outputs": [
    {
     "name": "stdout",
     "output_type": "stream",
     "text": [
      "<class 'pandas.core.frame.DataFrame'>\n",
      "RangeIndex: 1045 entries, 0 to 1044\n",
      "Data columns (total 3 columns):\n",
      " #   Column   Non-Null Count  Dtype \n",
      "---  ------   --------------  ----- \n",
      " 0   id       1045 non-null   int64 \n",
      " 1   ai_text  1045 non-null   object\n",
      " 2   label    1045 non-null   object\n",
      "dtypes: int64(1), object(2)\n",
      "memory usage: 24.6+ KB\n"
     ]
    }
   ],
   "source": [
    "ai_df.info()"
   ]
  },
  {
   "cell_type": "code",
   "execution_count": 4,
   "id": "d94ce303",
   "metadata": {},
   "outputs": [
    {
     "name": "stdout",
     "output_type": "stream",
     "text": [
      "<class 'pandas.core.frame.DataFrame'>\n",
      "Index: 1045 entries, 0 to 1060\n",
      "Data columns (total 5 columns):\n",
      " #   Column  Non-Null Count  Dtype \n",
      "---  ------  --------------  ----- \n",
      " 0   url     1045 non-null   object\n",
      " 1   title   1045 non-null   object\n",
      " 2   text    1045 non-null   object\n",
      " 3   label   1045 non-null   object\n",
      " 4   id      1045 non-null   int64 \n",
      "dtypes: int64(1), object(4)\n",
      "memory usage: 49.0+ KB\n"
     ]
    }
   ],
   "source": [
    "human_df.info()"
   ]
  },
  {
   "cell_type": "code",
   "execution_count": 5,
   "id": "aee3f330",
   "metadata": {
    "scrolled": true
   },
   "outputs": [
    {
     "data": {
      "text/html": [
       "<div>\n",
       "<style scoped>\n",
       "    .dataframe tbody tr th:only-of-type {\n",
       "        vertical-align: middle;\n",
       "    }\n",
       "\n",
       "    .dataframe tbody tr th {\n",
       "        vertical-align: top;\n",
       "    }\n",
       "\n",
       "    .dataframe thead th {\n",
       "        text-align: right;\n",
       "    }\n",
       "</style>\n",
       "<table border=\"1\" class=\"dataframe\">\n",
       "  <thead>\n",
       "    <tr style=\"text-align: right;\">\n",
       "      <th></th>\n",
       "      <th>id</th>\n",
       "      <th>ai_text</th>\n",
       "      <th>label</th>\n",
       "    </tr>\n",
       "  </thead>\n",
       "  <tbody>\n",
       "    <tr>\n",
       "      <th>0</th>\n",
       "      <td>1</td>\n",
       "      <td>In the aftermath of the Nakaba, the Palestinia...</td>\n",
       "      <td>AI-written</td>\n",
       "    </tr>\n",
       "    <tr>\n",
       "      <th>1</th>\n",
       "      <td>2</td>\n",
       "      <td>The Rafal crossing is a major source of humani...</td>\n",
       "      <td>AI-written</td>\n",
       "    </tr>\n",
       "    <tr>\n",
       "      <th>2</th>\n",
       "      <td>3</td>\n",
       "      <td>Hezbollah has also said that it has launched r...</td>\n",
       "      <td>AI-written</td>\n",
       "    </tr>\n",
       "    <tr>\n",
       "      <th>3</th>\n",
       "      <td>4</td>\n",
       "      <td>A number of people were injured, including a w...</td>\n",
       "      <td>AI-written</td>\n",
       "    </tr>\n",
       "    <tr>\n",
       "      <th>4</th>\n",
       "      <td>5</td>\n",
       "      <td>Nadeem Anjarwalla, the regiona of Nigerias cap...</td>\n",
       "      <td>AI-written</td>\n",
       "    </tr>\n",
       "    <tr>\n",
       "      <th>...</th>\n",
       "      <td>...</td>\n",
       "      <td>...</td>\n",
       "      <td>...</td>\n",
       "    </tr>\n",
       "    <tr>\n",
       "      <th>1040</th>\n",
       "      <td>1041</td>\n",
       "      <td>The film is an exploration of how the human mi...</td>\n",
       "      <td>AI-written</td>\n",
       "    </tr>\n",
       "    <tr>\n",
       "      <th>1041</th>\n",
       "      <td>1042</td>\n",
       "      <td>The film is a gripping and moving portrait of ...</td>\n",
       "      <td>AI-written</td>\n",
       "    </tr>\n",
       "    <tr>\n",
       "      <th>1042</th>\n",
       "      <td>1043</td>\n",
       "      <td></td>\n",
       "      <td>AI-written</td>\n",
       "    </tr>\n",
       "    <tr>\n",
       "      <th>1043</th>\n",
       "      <td>1044</td>\n",
       "      <td>Director Frank Darabont has made a prison fabl...</td>\n",
       "      <td>AI-written</td>\n",
       "    </tr>\n",
       "    <tr>\n",
       "      <th>1044</th>\n",
       "      <td>1045</td>\n",
       "      <td>The films main character, a young man named T....</td>\n",
       "      <td>AI-written</td>\n",
       "    </tr>\n",
       "  </tbody>\n",
       "</table>\n",
       "<p>1045 rows × 3 columns</p>\n",
       "</div>"
      ],
      "text/plain": [
       "        id                                            ai_text       label\n",
       "0        1  In the aftermath of the Nakaba, the Palestinia...  AI-written\n",
       "1        2  The Rafal crossing is a major source of humani...  AI-written\n",
       "2        3  Hezbollah has also said that it has launched r...  AI-written\n",
       "3        4  A number of people were injured, including a w...  AI-written\n",
       "4        5  Nadeem Anjarwalla, the regiona of Nigerias cap...  AI-written\n",
       "...    ...                                                ...         ...\n",
       "1040  1041  The film is an exploration of how the human mi...  AI-written\n",
       "1041  1042  The film is a gripping and moving portrait of ...  AI-written\n",
       "1042  1043                                                     AI-written\n",
       "1043  1044  Director Frank Darabont has made a prison fabl...  AI-written\n",
       "1044  1045  The films main character, a young man named T....  AI-written\n",
       "\n",
       "[1045 rows x 3 columns]"
      ]
     },
     "execution_count": 5,
     "metadata": {},
     "output_type": "execute_result"
    }
   ],
   "source": [
    "ai_df"
   ]
  },
  {
   "cell_type": "code",
   "execution_count": 6,
   "id": "fe030e45",
   "metadata": {
    "scrolled": true
   },
   "outputs": [
    {
     "data": {
      "text/html": [
       "<div>\n",
       "<style scoped>\n",
       "    .dataframe tbody tr th:only-of-type {\n",
       "        vertical-align: middle;\n",
       "    }\n",
       "\n",
       "    .dataframe tbody tr th {\n",
       "        vertical-align: top;\n",
       "    }\n",
       "\n",
       "    .dataframe thead th {\n",
       "        text-align: right;\n",
       "    }\n",
       "</style>\n",
       "<table border=\"1\" class=\"dataframe\">\n",
       "  <thead>\n",
       "    <tr style=\"text-align: right;\">\n",
       "      <th></th>\n",
       "      <th>url</th>\n",
       "      <th>title</th>\n",
       "      <th>text</th>\n",
       "      <th>label</th>\n",
       "      <th>id</th>\n",
       "    </tr>\n",
       "  </thead>\n",
       "  <tbody>\n",
       "    <tr>\n",
       "      <th>0</th>\n",
       "      <td>https://www.aljazeera.com/opinions/2024/3/27/b...</td>\n",
       "      <td>Beit Daras and Gaza: An intergenerational tale...</td>\n",
       "      <td>On this day 76 years ago, my ancestral village...</td>\n",
       "      <td>Human-written</td>\n",
       "      <td>1</td>\n",
       "    </tr>\n",
       "    <tr>\n",
       "      <th>1</th>\n",
       "      <td>https://www.aljazeera.com/news/2024/3/27/israe...</td>\n",
       "      <td>Israel’s war on Gaza: List of key events, day 173</td>\n",
       "      <td>Heres how things stand on Wednesday,March 27 ,...</td>\n",
       "      <td>Human-written</td>\n",
       "      <td>2</td>\n",
       "    </tr>\n",
       "    <tr>\n",
       "      <th>2</th>\n",
       "      <td>https://www.aljazeera.com/news/2024/3/27/hezbo...</td>\n",
       "      <td>Hezbollah launches rocket barrage after Israel...</td>\n",
       "      <td>Hezbollah has said it launched dozens of rocke...</td>\n",
       "      <td>Human-written</td>\n",
       "      <td>3</td>\n",
       "    </tr>\n",
       "    <tr>\n",
       "      <th>3</th>\n",
       "      <td>https://www.aljazeera.com/features/2024/3/26/s...</td>\n",
       "      <td>South Sudan on the brink after oil exports der...</td>\n",
       "      <td>Violence and insecurity could worsen in South ...</td>\n",
       "      <td>Human-written</td>\n",
       "      <td>4</td>\n",
       "    </tr>\n",
       "    <tr>\n",
       "      <th>4</th>\n",
       "      <td>https://www.aljazeera.com/news/2024/3/25/binan...</td>\n",
       "      <td>Binance executive detained in Nigeria in crypt...</td>\n",
       "      <td>An executive of cryptocurrency exchange Binanc...</td>\n",
       "      <td>Human-written</td>\n",
       "      <td>5</td>\n",
       "    </tr>\n",
       "    <tr>\n",
       "      <th>...</th>\n",
       "      <td>...</td>\n",
       "      <td>...</td>\n",
       "      <td>...</td>\n",
       "      <td>...</td>\n",
       "      <td>...</td>\n",
       "    </tr>\n",
       "    <tr>\n",
       "      <th>1056</th>\n",
       "      <td>https://www.imdb.com/title/tt0111161/reviews</td>\n",
       "      <td>Finding Beauty in the Shadows</td>\n",
       "      <td>It is a cinematic masterpiece that delves into...</td>\n",
       "      <td>Human-written</td>\n",
       "      <td>1041</td>\n",
       "    </tr>\n",
       "    <tr>\n",
       "      <th>1057</th>\n",
       "      <td>https://www.imdb.com/title/tt0111161/reviews</td>\n",
       "      <td>The Shawshank Journey</td>\n",
       "      <td>It takes audiences on an unforgettable cinemat...</td>\n",
       "      <td>Human-written</td>\n",
       "      <td>1042</td>\n",
       "    </tr>\n",
       "    <tr>\n",
       "      <th>1058</th>\n",
       "      <td>https://www.imdb.com/title/tt0111161/reviews</td>\n",
       "      <td>A Timeless Tale of Hope and Resilience</td>\n",
       "      <td>It is a timeless tale of hope and resilience t...</td>\n",
       "      <td>Human-written</td>\n",
       "      <td>1043</td>\n",
       "    </tr>\n",
       "    <tr>\n",
       "      <th>1059</th>\n",
       "      <td>https://www.imdb.com/title/tt0111161/reviews</td>\n",
       "      <td>Freeman gives it depth</td>\n",
       "      <td>Andy Dufresne Tim Robbins is a banker convicte...</td>\n",
       "      <td>Human-written</td>\n",
       "      <td>1044</td>\n",
       "    </tr>\n",
       "    <tr>\n",
       "      <th>1060</th>\n",
       "      <td>https://www.imdb.com/title/tt0111161/reviews</td>\n",
       "      <td>If other people would rave about it less, I'd ...</td>\n",
       "      <td>The redeeming feature of this film is that it ...</td>\n",
       "      <td>Human-written</td>\n",
       "      <td>1045</td>\n",
       "    </tr>\n",
       "  </tbody>\n",
       "</table>\n",
       "<p>1045 rows × 5 columns</p>\n",
       "</div>"
      ],
      "text/plain": [
       "                                                    url  \\\n",
       "0     https://www.aljazeera.com/opinions/2024/3/27/b...   \n",
       "1     https://www.aljazeera.com/news/2024/3/27/israe...   \n",
       "2     https://www.aljazeera.com/news/2024/3/27/hezbo...   \n",
       "3     https://www.aljazeera.com/features/2024/3/26/s...   \n",
       "4     https://www.aljazeera.com/news/2024/3/25/binan...   \n",
       "...                                                 ...   \n",
       "1056       https://www.imdb.com/title/tt0111161/reviews   \n",
       "1057       https://www.imdb.com/title/tt0111161/reviews   \n",
       "1058       https://www.imdb.com/title/tt0111161/reviews   \n",
       "1059       https://www.imdb.com/title/tt0111161/reviews   \n",
       "1060       https://www.imdb.com/title/tt0111161/reviews   \n",
       "\n",
       "                                                  title  \\\n",
       "0     Beit Daras and Gaza: An intergenerational tale...   \n",
       "1     Israel’s war on Gaza: List of key events, day 173   \n",
       "2     Hezbollah launches rocket barrage after Israel...   \n",
       "3     South Sudan on the brink after oil exports der...   \n",
       "4     Binance executive detained in Nigeria in crypt...   \n",
       "...                                                 ...   \n",
       "1056                      Finding Beauty in the Shadows   \n",
       "1057                              The Shawshank Journey   \n",
       "1058             A Timeless Tale of Hope and Resilience   \n",
       "1059                             Freeman gives it depth   \n",
       "1060  If other people would rave about it less, I'd ...   \n",
       "\n",
       "                                                   text          label    id  \n",
       "0     On this day 76 years ago, my ancestral village...  Human-written     1  \n",
       "1     Heres how things stand on Wednesday,March 27 ,...  Human-written     2  \n",
       "2     Hezbollah has said it launched dozens of rocke...  Human-written     3  \n",
       "3     Violence and insecurity could worsen in South ...  Human-written     4  \n",
       "4     An executive of cryptocurrency exchange Binanc...  Human-written     5  \n",
       "...                                                 ...            ...   ...  \n",
       "1056  It is a cinematic masterpiece that delves into...  Human-written  1041  \n",
       "1057  It takes audiences on an unforgettable cinemat...  Human-written  1042  \n",
       "1058  It is a timeless tale of hope and resilience t...  Human-written  1043  \n",
       "1059  Andy Dufresne Tim Robbins is a banker convicte...  Human-written  1044  \n",
       "1060  The redeeming feature of this film is that it ...  Human-written  1045  \n",
       "\n",
       "[1045 rows x 5 columns]"
      ]
     },
     "execution_count": 6,
     "metadata": {},
     "output_type": "execute_result"
    }
   ],
   "source": [
    "human_df"
   ]
  },
  {
   "cell_type": "markdown",
   "id": "0475df2f",
   "metadata": {},
   "source": [
    "### Capping the max. words per text to the max. AI-Written text word count (to keep the inputs balanced)"
   ]
  },
  {
   "cell_type": "code",
   "execution_count": 7,
   "id": "f23981a3",
   "metadata": {},
   "outputs": [
    {
     "name": "stdout",
     "output_type": "stream",
     "text": [
      "Maximum AI-Written text length (characters): 5117\n",
      "Maximum AI-Written text word count: 862\n"
     ]
    }
   ],
   "source": [
    "max_ai_text_length = ai_df['ai_text'].str.len().max()\n",
    "max_ai_text_word_count = ai_df['ai_text'].apply(lambda x: len(x.split())).max()\n",
    "\n",
    "print(f\"Maximum AI-Written text length (characters): {max_ai_text_length}\")\n",
    "print(f\"Maximum AI-Written text word count: {max_ai_text_word_count}\")"
   ]
  },
  {
   "cell_type": "code",
   "execution_count": 8,
   "id": "ccab75b3",
   "metadata": {},
   "outputs": [],
   "source": [
    "# Function to shorten texts to a maximum number of words\n",
    "def shorten_text_to_max_words(text, max_words):\n",
    "    words = text.split()\n",
    "    return ' '.join(words[:max_words])\n",
    "\n",
    "# Shortening the texts in human_df to a rounded number of the maximum word count found in AI-Written texts - 900 words\n",
    "human_df['text'] = human_df['text'].apply(lambda x: shorten_text_to_max_words(x, 900))"
   ]
  },
  {
   "cell_type": "code",
   "execution_count": 9,
   "id": "f839d4d3",
   "metadata": {},
   "outputs": [],
   "source": [
    "ai_df_renamed = ai_df.rename(columns={'ai_text': 'text'})\n",
    "human_df_renamed = human_df[['text', 'label']]  # Selecting only the 'text' and 'label' columns\n",
    "\n",
    "merged_df = pd.concat([ai_df_renamed[['text', 'label']], human_df_renamed], ignore_index=True)"
   ]
  },
  {
   "cell_type": "code",
   "execution_count": 10,
   "id": "69baadb4",
   "metadata": {},
   "outputs": [
    {
     "data": {
      "text/html": [
       "<div>\n",
       "<style scoped>\n",
       "    .dataframe tbody tr th:only-of-type {\n",
       "        vertical-align: middle;\n",
       "    }\n",
       "\n",
       "    .dataframe tbody tr th {\n",
       "        vertical-align: top;\n",
       "    }\n",
       "\n",
       "    .dataframe thead th {\n",
       "        text-align: right;\n",
       "    }\n",
       "</style>\n",
       "<table border=\"1\" class=\"dataframe\">\n",
       "  <thead>\n",
       "    <tr style=\"text-align: right;\">\n",
       "      <th></th>\n",
       "      <th>text</th>\n",
       "      <th>label</th>\n",
       "    </tr>\n",
       "  </thead>\n",
       "  <tbody>\n",
       "    <tr>\n",
       "      <th>0</th>\n",
       "      <td>In the aftermath of the Nakaba, the Palestinia...</td>\n",
       "      <td>AI-written</td>\n",
       "    </tr>\n",
       "    <tr>\n",
       "      <th>1</th>\n",
       "      <td>The Rafal crossing is a major source of humani...</td>\n",
       "      <td>AI-written</td>\n",
       "    </tr>\n",
       "    <tr>\n",
       "      <th>2</th>\n",
       "      <td>Hezbollah has also said that it has launched r...</td>\n",
       "      <td>AI-written</td>\n",
       "    </tr>\n",
       "    <tr>\n",
       "      <th>3</th>\n",
       "      <td>A number of people were injured, including a w...</td>\n",
       "      <td>AI-written</td>\n",
       "    </tr>\n",
       "    <tr>\n",
       "      <th>4</th>\n",
       "      <td>Nadeem Anjarwalla, the regiona of Nigerias cap...</td>\n",
       "      <td>AI-written</td>\n",
       "    </tr>\n",
       "    <tr>\n",
       "      <th>...</th>\n",
       "      <td>...</td>\n",
       "      <td>...</td>\n",
       "    </tr>\n",
       "    <tr>\n",
       "      <th>2085</th>\n",
       "      <td>It is a cinematic masterpiece that delves into...</td>\n",
       "      <td>Human-written</td>\n",
       "    </tr>\n",
       "    <tr>\n",
       "      <th>2086</th>\n",
       "      <td>It takes audiences on an unforgettable cinemat...</td>\n",
       "      <td>Human-written</td>\n",
       "    </tr>\n",
       "    <tr>\n",
       "      <th>2087</th>\n",
       "      <td>It is a timeless tale of hope and resilience t...</td>\n",
       "      <td>Human-written</td>\n",
       "    </tr>\n",
       "    <tr>\n",
       "      <th>2088</th>\n",
       "      <td>Andy Dufresne Tim Robbins is a banker convicte...</td>\n",
       "      <td>Human-written</td>\n",
       "    </tr>\n",
       "    <tr>\n",
       "      <th>2089</th>\n",
       "      <td>The redeeming feature of this film is that it ...</td>\n",
       "      <td>Human-written</td>\n",
       "    </tr>\n",
       "  </tbody>\n",
       "</table>\n",
       "<p>2090 rows × 2 columns</p>\n",
       "</div>"
      ],
      "text/plain": [
       "                                                   text          label\n",
       "0     In the aftermath of the Nakaba, the Palestinia...     AI-written\n",
       "1     The Rafal crossing is a major source of humani...     AI-written\n",
       "2     Hezbollah has also said that it has launched r...     AI-written\n",
       "3     A number of people were injured, including a w...     AI-written\n",
       "4     Nadeem Anjarwalla, the regiona of Nigerias cap...     AI-written\n",
       "...                                                 ...            ...\n",
       "2085  It is a cinematic masterpiece that delves into...  Human-written\n",
       "2086  It takes audiences on an unforgettable cinemat...  Human-written\n",
       "2087  It is a timeless tale of hope and resilience t...  Human-written\n",
       "2088  Andy Dufresne Tim Robbins is a banker convicte...  Human-written\n",
       "2089  The redeeming feature of this film is that it ...  Human-written\n",
       "\n",
       "[2090 rows x 2 columns]"
      ]
     },
     "execution_count": 10,
     "metadata": {},
     "output_type": "execute_result"
    }
   ],
   "source": [
    "merged_df"
   ]
  },
  {
   "cell_type": "markdown",
   "id": "4d4a5bef",
   "metadata": {},
   "source": [
    "### Checking for any missing values and duplicates"
   ]
  },
  {
   "cell_type": "code",
   "execution_count": 11,
   "id": "08abf159",
   "metadata": {},
   "outputs": [
    {
     "name": "stdout",
     "output_type": "stream",
     "text": [
      "Number of duplicate rows: 25\n"
     ]
    }
   ],
   "source": [
    "duplicate_rows = merged_df.duplicated().sum()\n",
    "print(f\"Number of duplicate rows: {duplicate_rows}\")"
   ]
  },
  {
   "cell_type": "code",
   "execution_count": 12,
   "id": "f3b36edb",
   "metadata": {},
   "outputs": [],
   "source": [
    "merged_df = merged_df.drop_duplicates() "
   ]
  },
  {
   "cell_type": "code",
   "execution_count": 13,
   "id": "a5f87f4a",
   "metadata": {},
   "outputs": [
    {
     "name": "stdout",
     "output_type": "stream",
     "text": [
      "Number of duplicate rows: 0\n"
     ]
    }
   ],
   "source": [
    "duplicate_rows = merged_df.duplicated().sum()\n",
    "print(f\"Number of duplicate rows: {duplicate_rows}\")"
   ]
  },
  {
   "cell_type": "code",
   "execution_count": 14,
   "id": "62396cc3",
   "metadata": {},
   "outputs": [
    {
     "name": "stdout",
     "output_type": "stream",
     "text": [
      "text     0\n",
      "label    0\n",
      "dtype: int64\n"
     ]
    }
   ],
   "source": [
    "values_missing = merged_df.isnull().sum()\n",
    "print(values_missing)"
   ]
  },
  {
   "cell_type": "code",
   "execution_count": 15,
   "id": "3a0f6cfa",
   "metadata": {},
   "outputs": [
    {
     "name": "stdout",
     "output_type": "stream",
     "text": [
      "<class 'pandas.core.frame.DataFrame'>\n",
      "Index: 2065 entries, 0 to 2089\n",
      "Data columns (total 2 columns):\n",
      " #   Column  Non-Null Count  Dtype \n",
      "---  ------  --------------  ----- \n",
      " 0   text    2065 non-null   object\n",
      " 1   label   2065 non-null   object\n",
      "dtypes: object(2)\n",
      "memory usage: 48.4+ KB\n"
     ]
    }
   ],
   "source": [
    "merged_df.info()"
   ]
  },
  {
   "cell_type": "markdown",
   "id": "18c0b066",
   "metadata": {},
   "source": [
    "### Exporting the Final Dataframe"
   ]
  },
  {
   "cell_type": "code",
   "execution_count": 16,
   "id": "1bdbc64a",
   "metadata": {},
   "outputs": [],
   "source": [
    "merged_df.to_pickle(\"Final_Dataset.pkl\")"
   ]
  }
 ],
 "metadata": {
  "kernelspec": {
   "display_name": "Python 3 (ipykernel)",
   "language": "python",
   "name": "python3"
  },
  "language_info": {
   "codemirror_mode": {
    "name": "ipython",
    "version": 3
   },
   "file_extension": ".py",
   "mimetype": "text/x-python",
   "name": "python",
   "nbconvert_exporter": "python",
   "pygments_lexer": "ipython3",
   "version": "3.11.5"
  }
 },
 "nbformat": 4,
 "nbformat_minor": 5
}
